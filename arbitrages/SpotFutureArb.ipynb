{
 "cells": [
  {
   "cell_type": "code",
   "execution_count": 1,
   "metadata": {},
   "outputs": [],
   "source": [
    "import urllib.request as urllib2\n",
    "import matplotlib\n",
    "import numpy as np\n",
    "import matplotlib.pyplot as plt\n",
    "import pandas as pd\n",
    "import numpy as np\n",
    "from bs4 import BeautifulSoup\n",
    "import requests\n",
    "import re\n",
    "import os\n",
    "import matplotlib.pyplot as plt\n",
    "import seaborn as sns\n",
    "from urllib.request import Request, urlopen\n",
    "import datetime\n",
    "import bs4\n",
    "import re \n",
    "from selenium import webdriver\n",
    "from selenium.webdriver.common.keys import Keys\n",
    "from selenium import webdriver\n",
    "from selenium.webdriver.chrome.options import Options\n",
    "%matplotlib inline  \n",
    "pd.set_option('display.max_columns', None)\n",
    "from time import sleep\n",
    "os.environ[\"PATH\"] =\"C:\\dev\\chromedriver;C:\\dev;\" + os.environ['PATH']\n",
    "import warnings\n",
    "warnings.filterwarnings('ignore')"
   ]
  },
  {
   "cell_type": "code",
   "execution_count": 10,
   "metadata": {},
   "outputs": [
    {
     "name": "stdout",
     "output_type": "stream",
     "text": [
      "Profit: $ 15.55744429252411\n",
      "Yield:  1.56 %\n",
      "equivalent annual yield:  18.67 %\n"
     ]
    }
   ],
   "source": [
    "usd_eth_price_spot = 1082.44\n",
    "usd_eth_price_future = 1099.28\n",
    "notional_usd = 1000\n",
    "\n",
    "# buy btc spot\n",
    "notional_eth = notional_usd/usd_eth_price_spot\n",
    "# short btc fut for same notional\n",
    "trade_profit_future = notional_eth*usd_eth_price_future\n",
    "profit = trade_profit_future-notional_usd\n",
    "y = profit/notional_usd\n",
    "print(\"Profit: $\", profit )\n",
    "print(\"Yield: \",round(y*100,2), \"%\")\n",
    "print(\"Equivalent annual yield: \",round(12*y*100,2), \"%\")\n"
   ]
  },
  {
   "cell_type": "markdown",
   "metadata": {},
   "source": [
    "## KRAKEN"
   ]
  },
  {
   "cell_type": "code",
   "execution_count": 32,
   "metadata": {},
   "outputs": [],
   "source": [
    "future_public_url = \"https://futures.kraken.com/derivatives/api/v3\"\n",
    "endpoint = \"/orderbook\"\n",
    "sym=\"FI_ETHUSD_210129\".lower()\n",
    "postUrl = \"symbol=%s\" % sym\n",
    "url=future_public_url+endpoint+\"?\"+postUrl\n",
    "public_key = \"cJsIbb7hbL51/RwSAf4/EIHkGMMcDo3jzhakVv4hvgwPqDcO+b13FSP8\"\n",
    "private_key = \"9sABLZBREQNSEDdI5QVIZhKRAfIDILXonW08eGv51O+CTkONahWoXGa0XLJ4i34nDWDNIJE9ioZS9CdsAgCp2F0v\""
   ]
  },
  {
   "cell_type": "code",
   "execution_count": 33,
   "metadata": {},
   "outputs": [
    {
     "data": {
      "text/plain": [
       "'https://futures.kraken.com/derivatives/api/v3/orderbook?symbol=fi_ethusd_210129'"
      ]
     },
     "execution_count": 33,
     "metadata": {},
     "output_type": "execute_result"
    }
   ],
   "source": [
    "url"
   ]
  },
  {
   "cell_type": "code",
   "execution_count": 36,
   "metadata": {},
   "outputs": [],
   "source": [
    "def sign_message(endpoint, postData, nonce=\"\"):\n",
    "    # step 1: concatenate postData, nonce + endpoint                \n",
    "    message = postData + nonce + endpoint\n",
    "\n",
    "    # step 2: hash the result of step 1 with SHA256\n",
    "    sha256_hash = hashlib.sha256()\n",
    "    sha256_hash.update(message.encode('utf8'))\n",
    "    hash_digest = sha256_hash.digest()\n",
    "\n",
    "    # step 3: base64 decode apiPrivateKey\n",
    "    secretDecoded = base64.b64decode(self.apiPrivateKey)\n",
    "\n",
    "    # step 4: use result of step 3 to has the result of step 2 with HMAC-SHA512\n",
    "    hmac_digest = hmac.new(secretDecoded, hash_digest, hashlib.sha512).digest()\n",
    "\n",
    "    # step 5: base64 encode the result of step 4 and return\n",
    "    return base64.b64encode(hmac_digest)"
   ]
  },
  {
   "cell_type": "code",
   "execution_count": 34,
   "metadata": {},
   "outputs": [],
   "source": [
    "postData = postData = postUrl + postBody\n",
    "#signature = sign_message(endpoint, postData)\n",
    "#authentHeaders = {\"APIKey\": public_key, \"Authent\": signature}\n",
    "request = urllib2.Request(url)#, authentHeaders)\n",
    "request.get_method = lambda: \"GET\""
   ]
  },
  {
   "cell_type": "code",
   "execution_count": 35,
   "metadata": {},
   "outputs": [
    {
     "data": {
      "text/plain": [
       "'{\"result\":\"success\",\"orderBook\":{\"bids\":[[1113.85, 910], [1113.65, 629], [1113.55, 1460], [1113.5, 78908], [1113.4, 781], [1111.9, 196080], [1111.85, 167275], [1111, 64500], [1110.95, 45400], [1110.3, 180504], [1110.2, 1000], [1109.75, 3084], [1108.95, 58634], [1108.9, 38399], [1108.4, 6021], [1108.3, 90800], [1107.75, 276647], [1106.05, 40000], [1106, 11775], [1105.9, 472275], [1105, 29580], [1101.35, 327508], [1098.6, 166285], [1092.2, 60852], [1083.3, 77419], [1066.35, 78538], [1062, 60057], [1000, 200], [803.1, 100], [789.3, 2000], [768.7, 100], [738.2, 100], [731.75, 6000], [675.9, 15000], [636.5, 20000]],\"asks\":[[1116.1, 50], [1116.45, 76522], [1116.5, 910], [1117.2, 22700], [1118.05, 3584], [1118.2, 6021], [1118.25, 199394], [1119.2, 1000], [1119.25, 18634], [1119.3, 45400], [1119.5, 38399], [1120.2, 225200], [1120.35, 11775], [1121.25, 1460], [1121.55, 90800], [1122, 244609], [1123.2, 29580], [1123.95, 285677], [1124.05, 181600], [1124.45, 18634], [1128.85, 308874], [1133.9, 77419], [1134.1, 147651], [1138, 60852], [1156.5, 78538], [1162.6, 60057], [1323.75, 10], [1651.05, 10], [1679.9, 10], [1700.15, 100], [1854.35, 10], [1900.05, 10], [1925.85, 10], [1950.9, 10], [1968.15, 10]]},\"serverTime\":\"2021-01-12T11:28:25.028Z\"}'"
      ]
     },
     "execution_count": 35,
     "metadata": {},
     "output_type": "execute_result"
    }
   ],
   "source": [
    "response = urllib2.urlopen(request, timeout=10)\n",
    "response = response.read().decode(\"utf-8\")\n",
    "response"
   ]
  },
  {
   "cell_type": "code",
   "execution_count": 22,
   "metadata": {},
   "outputs": [],
   "source": []
  },
  {
   "cell_type": "code",
   "execution_count": 23,
   "metadata": {},
   "outputs": [
    {
     "data": {
      "text/plain": [
       "'{\"result\":\"success\",\"orderBook\":{\"bids\":[[1117.35, 50], [1117.3, 910], [1117.05, 64427], [1116.6, 22700], [1115.9, 196080], [1115.85, 1460], [1115.35, 189371], [1115.15, 599], [1114.7, 500], [1113.9, 64000], [1113.85, 202363], [1113.65, 45400], [1112.8, 212680], [1112.35, 1695], [1112.3, 18634], [1112.25, 3084], [1111.15, 130800], [1111.1, 6021], [1110.85, 250379], [1109.4, 40000], [1109.35, 181600], [1108.35, 11775], [1108.15, 38399], [1106.95, 29580], [1103.25, 18634], [1096.25, 79486], [1096.2, 308874], [1091.9, 147651], [1083.3, 77419], [1066.35, 78538], [1062, 60057], [1000, 200], [803.1, 100], [789.3, 2000], [768.7, 100], [738.2, 100], [731.75, 6000], [675.9, 15000], [636.5, 20000]],\"asks\":[[1119.35, 910], [1119.4, 19199], [1119.6, 59727], [1120.05, 21800], [1121.2, 41483], [1121.25, 157030], [1121.6, 1960], [1121.95, 45400], [1122.4, 213033], [1122.85, 18634], [1123.4, 6021], [1124.05, 207031], [1124.95, 90800], [1125.25, 314024], [1126.05, 11775], [1127.5, 29580], [1127.55, 181600], [1138.1, 119637], [1138.15, 308874], [1138.2, 37268], [1141.7, 147651], [1160.35, 59904], [1160.4, 18634], [1162.6, 60057], [1323.75, 10], [1651.05, 10], [1679.9, 10], [1700.15, 100], [1854.35, 10], [1900.05, 10], [1925.85, 10], [1950.9, 10], [1968.15, 10]]},\"serverTime\":\"2021-01-12T11:20:03.654Z\"}'"
      ]
     },
     "execution_count": 23,
     "metadata": {},
     "output_type": "execute_result"
    }
   ],
   "source": [
    "\n"
   ]
  },
  {
   "cell_type": "code",
   "execution_count": null,
   "metadata": {},
   "outputs": [],
   "source": []
  }
 ],
 "metadata": {
  "kernelspec": {
   "display_name": "Python 3",
   "language": "python",
   "name": "python3"
  },
  "language_info": {
   "codemirror_mode": {
    "name": "ipython",
    "version": 3
   },
   "file_extension": ".py",
   "mimetype": "text/x-python",
   "name": "python",
   "nbconvert_exporter": "python",
   "pygments_lexer": "ipython3",
   "version": "3.6.6"
  }
 },
 "nbformat": 4,
 "nbformat_minor": 2
}
